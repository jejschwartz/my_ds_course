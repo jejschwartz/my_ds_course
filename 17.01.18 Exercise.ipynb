{
 "cells": [
  {
   "cell_type": "code",
   "execution_count": 48,
   "metadata": {},
   "outputs": [
    {
     "name": "stdout",
     "output_type": "stream",
     "text": [
      "['Jon', 'Sam', 'Bill']\n",
      "['Jon', 'Sam', 'Bill', 'Frank']\n",
      "['Elizabeth', 'Sara', 'Joan', 'Adi']\n",
      "Adi\n",
      "Jon\n",
      "['Sam', 'Bill', 'Frank']\n",
      "['Sam', 'Bill']\n",
      "['Sam', 'Bill', 'Elizabeth', 'Sara', 'Joan']\n",
      "\n",
      "extend() would add one of the lists to the other, \n",
      "rather than create a new combined list.\n"
     ]
    }
   ],
   "source": [
    "## Exercise 1\n",
    "\n",
    "boys = ['Jon', 'Sam', 'Bill']\n",
    "girls = ['Sara','Joan','Adi']\n",
    "print (boys)\n",
    "\n",
    "boys.append('Frank')\n",
    "print (boys)\n",
    "\n",
    "girls.insert(0,'Elizabeth')\n",
    "print (girls)\n",
    "\n",
    "bride = girls.pop()\n",
    "print (bride)\n",
    "\n",
    "groom = boys.pop(0)\n",
    "print (groom)\n",
    "\n",
    "print(boys)\n",
    "boys.remove(boys[-1]) #negative index selects last boy in list, without know his name\n",
    "print(boys)\n",
    "\n",
    "names = boys + girls\n",
    "print (names)\n",
    "\n",
    "print('\\nextend() would add one of the lists to the other, \\nrather than create a new combined list.')\n",
    "\n"
   ]
  },
  {
   "cell_type": "code",
   "execution_count": 68,
   "metadata": {},
   "outputs": [
    {
     "name": "stdout",
     "output_type": "stream",
     "text": [
      "['Sam', 37, True]\n",
      "['Sam', 35, True]\n",
      "[['Jon', 27, False], ['Sam', 35, True], ['Bill', 33, True]]\n",
      "[['Jon', 27, False], ['Sam', 35, True], ['Bill', 33, True], ['Ron', 42, False]]\n",
      "[['Jon', 35, False], ['Sam', 35, True], ['Bill', 33, True], ['Ron', 42, False]]\n",
      "[['Jon', 35], ['Sam', 35, True], ['Bill', 33, True], ['Ron', 42, False]]\n",
      "[['Jon', 35], ['Sam', 35, True], ['Bill', 33], ['Ron', 42, False]]\n"
     ]
    }
   ],
   "source": [
    "## Exercise 2\n",
    "\n",
    "jon = ['Jon', 27,False ]\n",
    "sam = ['Sam', 37, True ]\n",
    "bill = ['Bill', 33, True ]\n",
    "print (sam)\n",
    "\n",
    "sam.remove(sam[1])  \n",
    "sam.insert(1,35)    #Modify Sam's age\n",
    "print (sam)\n",
    "\n",
    "guys = [jon, sam, bill]\n",
    "print (guys)\n",
    "\n",
    "ron = ['Ron', 42, False]\n",
    "guys.append(ron)    # append Ron to guys\n",
    "print (guys)\n",
    "\n",
    "jon.remove(jon[1])  \n",
    "jon.insert(1,35)    #Modify Jon's age in guys\n",
    "print (guys)\n",
    "\n",
    "jon.pop()  # Remove Jon's marital status with pop\n",
    "print (guys)\n",
    "\n",
    "bill.remove(bill[2]) #Remove Bill's marital status with remove\n",
    "print (guys)\n"
   ]
  },
  {
   "cell_type": "code",
   "execution_count": 81,
   "metadata": {},
   "outputs": [
    {
     "name": "stdout",
     "output_type": "stream",
     "text": [
      "Hello,\n",
      "my\n",
      "name\n",
      "is\n",
      "Simon\n",
      "3\n",
      "3\n"
     ]
    }
   ],
   "source": [
    "#Exercise 3\n",
    "sentence = 'Hello, my name is Simon'\n",
    "print('\\n'.join(sentence.split()))\n",
    "\n",
    "#Count m's with string count method\n",
    "m1_count = sentence.count('m')\n",
    "print (m1_count)\n",
    "\n",
    "#Count m's in sentence without string method\n",
    "sentence = list(sentence) #Convert string to list, each letter and space becomes element in list\n",
    "m2_count = sentence.count('m') #Count number of m's with list count method\n",
    "print (m2_count)\n"
   ]
  }
 ],
 "metadata": {
  "kernelspec": {
   "display_name": "Python 3",
   "language": "python",
   "name": "python3"
  },
  "language_info": {
   "codemirror_mode": {
    "name": "ipython",
    "version": 3
   },
   "file_extension": ".py",
   "mimetype": "text/x-python",
   "name": "python",
   "nbconvert_exporter": "python",
   "pygments_lexer": "ipython3",
   "version": "3.6.3"
  }
 },
 "nbformat": 4,
 "nbformat_minor": 2
}
