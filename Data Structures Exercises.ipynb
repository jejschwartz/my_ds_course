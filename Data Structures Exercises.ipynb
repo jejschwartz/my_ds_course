{
 "cells": [
  {
   "cell_type": "code",
   "execution_count": 48,
   "metadata": {},
   "outputs": [
    {
     "name": "stdout",
     "output_type": "stream",
     "text": [
      "['Jon', 'Sam', 'Bill']\n",
      "['Jon', 'Sam', 'Bill', 'Frank']\n",
      "['Elizabeth', 'Sara', 'Joan', 'Adi']\n",
      "Adi\n",
      "Jon\n",
      "['Sam', 'Bill', 'Frank']\n",
      "['Sam', 'Bill']\n",
      "['Sam', 'Bill', 'Elizabeth', 'Sara', 'Joan']\n",
      "\n",
      "extend() would add one of the lists to the other, \n",
      "rather than create a new combined list.\n"
     ]
    }
   ],
   "source": [
    "## Exercise 1 Lists and Strings\n",
    "\n",
    "boys = ['Jon', 'Sam', 'Bill']\n",
    "girls = ['Sara','Joan','Adi']\n",
    "print (boys)\n",
    "\n",
    "boys.append('Frank')\n",
    "print (boys)\n",
    "\n",
    "girls.insert(0,'Elizabeth')\n",
    "print (girls)\n",
    "\n",
    "bride = girls.pop()\n",
    "print (bride)\n",
    "\n",
    "groom = boys.pop(0)\n",
    "print (groom)\n",
    "\n",
    "print(boys)\n",
    "boys.remove(boys[-1]) #negative index selects last boy in list, without know his name\n",
    "print(boys)\n",
    "\n",
    "names = boys + girls\n",
    "print (names)\n",
    "\n",
    "print('\\nextend() would add one of the lists to the other, \\nrather than create a new combined list.')\n",
    "\n"
   ]
  },
  {
   "cell_type": "code",
   "execution_count": 68,
   "metadata": {},
   "outputs": [
    {
     "name": "stdout",
     "output_type": "stream",
     "text": [
      "['Sam', 37, True]\n",
      "['Sam', 35, True]\n",
      "[['Jon', 27, False], ['Sam', 35, True], ['Bill', 33, True]]\n",
      "[['Jon', 27, False], ['Sam', 35, True], ['Bill', 33, True], ['Ron', 42, False]]\n",
      "[['Jon', 35, False], ['Sam', 35, True], ['Bill', 33, True], ['Ron', 42, False]]\n",
      "[['Jon', 35], ['Sam', 35, True], ['Bill', 33, True], ['Ron', 42, False]]\n",
      "[['Jon', 35], ['Sam', 35, True], ['Bill', 33], ['Ron', 42, False]]\n"
     ]
    }
   ],
   "source": [
    "## Exercise 2 Lists and Strings\n",
    "\n",
    "jon = ['Jon', 27,False ]\n",
    "sam = ['Sam', 37, True ]\n",
    "bill = ['Bill', 33, True ]\n",
    "print (sam)\n",
    "\n",
    "sam.remove(sam[1])  \n",
    "sam.insert(1,35)    #Modify Sam's age\n",
    "print (sam)\n",
    "\n",
    "guys = [jon, sam, bill]\n",
    "print (guys)\n",
    "\n",
    "ron = ['Ron', 42, False]\n",
    "guys.append(ron)    # append Ron to guys\n",
    "print (guys)\n",
    "\n",
    "jon.remove(jon[1])  \n",
    "jon.insert(1,35)    #Modify Jon's age in guys\n",
    "print (guys)\n",
    "\n",
    "jon.pop()  # Remove Jon's marital status with pop\n",
    "print (guys)\n",
    "\n",
    "bill.remove(bill[2]) #Remove Bill's marital status with remove\n",
    "print (guys)\n"
   ]
  },
  {
   "cell_type": "code",
   "execution_count": 3,
   "metadata": {},
   "outputs": [
    {
     "name": "stdout",
     "output_type": "stream",
     "text": [
      "Hello,\n",
      "my\n",
      "name\n",
      "is\n",
      "Simon\n",
      "3\n",
      "3\n"
     ]
    }
   ],
   "source": [
    "#Exercise 3 Lists and Strings\n",
    "sentence = 'Hello, my name is Simon'\n",
    "print('\\n'.join(sentence.split()))\n",
    "\n",
    "#Count m's with string count method\n",
    "m1_count = sentence.count('m')\n",
    "print (m1_count)\n",
    "\n",
    "#Count m's in sentence without string method\n",
    "m2_count = len(sentence.split(\"m\"))-1 #Count splits with m, subtract 1 gets number of m in string\n",
    "print (m2_count)"
   ]
  },
  {
   "cell_type": "code",
   "execution_count": 6,
   "metadata": {},
   "outputs": [
    {
     "name": "stdout",
     "output_type": "stream",
     "text": [
      "\n",
      " {'a': ['alberto', 'amazing', 'anomaly'], 'b': ['babble', 'bobby', 'blister'], 'c': ['charlie', 'chef', 'call']}\n",
      "\n",
      " {'a': ['alberto', 'amazing', 'anomaly', 'answer'], 'b': ['babble', 'bobby', 'blister', 'bail'], 'c': ['charlie', 'chef', 'call', 'channel']}\n",
      "\n",
      " {'a': ['alberto', 'amazing', 'anomaly', 'answer'], 'b': ['babble', 'bobby', 'blister', 'bail'], 'c': ['charlie', 'chef', 'call', 'channel'], 'd': ['donald', 'duck']}\n",
      "\n",
      " [['alberto', 'amazing', 'anomaly', 'answer'], ['babble', 'bobby', 'blister', 'bail'], ['charlie', 'chef', 'call', 'channel'], ['donald', 'duck']]\n"
     ]
    }
   ],
   "source": [
    "# Exercise 1 Dictionary\n",
    "\n",
    "my_dict = {'a': ['alberto','amazing', 'anomaly'],\n",
    "           'b': ['babble','bobby','blister'],\n",
    "           'c': ['charlie', 'chef', 'call']}\n",
    "print ('\\n', my_dict)\n",
    "my_dict['a'].append('answer')\n",
    "my_dict['b'].append('bail')\n",
    "my_dict['c'].append('channel')\n",
    "print ('\\n', my_dict)\n",
    "d_dict = {'d': ['donald','duck']}\n",
    "my_dict.update(d_dict)\n",
    "print ('\\n', my_dict)\n",
    "\n",
    "words = list(my_dict.values())\n",
    "print ('\\n', words)"
   ]
  },
  {
   "cell_type": "code",
   "execution_count": 7,
   "metadata": {},
   "outputs": [
    {
     "name": "stdout",
     "output_type": "stream",
     "text": [
      "{'Canada': ['Montreal', 'Toronto', 'Calgary'], 'USA': ['New York', 'Denver', 'Seattle']}\n",
      "{'Argentina': ['Bueonos Aires', 'Cordoba', 'Rosario'], 'Uruguay': ['Montevideo', 'Salto', 'Rivera']}\n",
      "\n",
      "world_dict =  {'North America': {'Canada': ['Montreal', 'Toronto', 'Calgary'], 'USA': ['New York', 'Denver', 'Seattle']}, 'South America': {'Argentina': ['Bueonos Aires', 'Cordoba', 'Rosario'], 'Uruguay': ['Montevideo', 'Salto', 'Rivera']}}\n"
     ]
    }
   ],
   "source": [
    "# Exercise 2 Tuples & Dictionary\n",
    "# List of cities\n",
    "cad_cities = ['Montreal', 'Toronto', 'Calgary']\n",
    "usa_cities = ['New York', 'Denver', 'Seattle']\n",
    "ar_cities = ['Bueonos Aires', 'Cordoba', 'Rosario']\n",
    "ur_cities = ['Montevideo', 'Salto', 'Rivera']\n",
    "\n",
    "# Continental dictionairies\n",
    "n_america = {'Canada': cad_cities,\n",
    "             'USA': usa_cities}\n",
    "s_america = {'Argentina': ar_cities,\n",
    "             'Uruguay': ur_cities}\n",
    "print(n_america)\n",
    "print(s_america)\n",
    "\n",
    "# Create new world_dict\n",
    "world_dict = {'North America': n_america,\n",
    "              'South America': s_america}\n",
    "print('\\nworld_dict = ', world_dict)\n",
    "\n"
   ]
  },
  {
   "cell_type": "code",
   "execution_count": 4,
   "metadata": {},
   "outputs": [
    {
     "name": "stdout",
     "output_type": "stream",
     "text": [
      "5 {'o', 'n', 'e', 'l', 'r'}\n"
     ]
    }
   ],
   "source": [
    "#Exercise 1 Sets\n",
    "word_a = 'international'\n",
    "word_b = 'wonderful'\n",
    "a = set(word_a)\n",
    "b = set(word_b)\n",
    "common_letters = a & b\n",
    "print(len(common_letters), common_letters)"
   ]
  },
  {
   "cell_type": "code",
   "execution_count": 40,
   "metadata": {},
   "outputs": [
    {
     "name": "stdout",
     "output_type": "stream",
     "text": [
      "sunday unique visitors {'isabel', 'heinrich', 'dave', 'carl'}\n",
      "Monday unique visitors set()\n",
      "Tuesday unique visitors {'kent', 'jack'}\n",
      "\n",
      "Visitor List {'gale', 'carl', 'jack', 'kent', 'abe', 'isabel', 'dave', 'fred', 'heinrich', 'ed', 'bob'}\n",
      "\n",
      "On Monday every visitor had also visited on another day\n",
      "\n",
      "Multi day visitors: {'gale', 'abe', 'fred', 'ed', 'bob'}\n",
      "Visited every day: {'fred', 'abe', 'ed'}\n",
      "\n",
      "Visited only on Tuesday: {'kent', 'jack'}\n",
      "\n",
      "Visited on Sunday and Monday only {'isabel', 'heinrich', 'dave', 'carl'}\n"
     ]
    }
   ],
   "source": [
    "#Exercise 2 Sets\n",
    "sunday_visitors = ['abe', 'bob', 'carl', 'dave', 'ed',\n",
    "                   'heinrich', 'isabel', 'abe', 'fred']\n",
    "monday_visitors = ['abe', 'gale', 'ed', 'fred']\n",
    "tuesday_visitors = ['ed', 'bob', 'jack', 'fred', 'abe',\n",
    "                    'abe', 'jack', 'kent', 'gale']\n",
    "\n",
    "sunday_set = set(sunday_visitors)\n",
    "monday_set = set(monday_visitors)\n",
    "tuesday_set = set(tuesday_visitors)\n",
    "\n",
    "#1\n",
    "sunday_unique = sunday_set - monday_set - tuesday_set\n",
    "print('sunday unique visitors', sunday_unique)\n",
    "\n",
    "monday_unique = monday_set - tuesday_set - sunday_set\n",
    "print('Monday unique visitors', monday_unique)\n",
    "\n",
    "tuesday_unique = tuesday_set- monday_set - sunday_set\n",
    "print ('Tuesday unique visitors', tuesday_unique)\n",
    "\n",
    "visitor_list = sunday_set | monday_set | tuesday_set\n",
    "print ('\\nVisitor List', visitor_list)\n",
    "\n",
    "#2\n",
    "\n",
    "every_day_visit = 'Sunday'\n",
    "if len(monday_set - sunday_set - tuesday_set) == 0:\n",
    "    every_day_visit = 'Monday'\n",
    "if len(tuesday_set - monday_set - sunday_set) == 0:\n",
    "    every_day_visit = 'Tuesday'\n",
    "\n",
    "print('\\nOn', every_day_visit, 'every visitor had also visited on another day')\n",
    "\n",
    "#3\n",
    "multi_day_visitors =  sunday_set & monday_set | sunday_set & tuesday_set | monday_set & tuesday_set\n",
    "print ('\\nMulti day visitors:', multi_day_visitors)\n",
    "every_day_visitors =  tuesday_set & sunday_set & monday_set \n",
    "print('Visited every day:', every_day_visitors)\n",
    "\n",
    "#4\n",
    "tuesday_visit_only = tuesday_set - monday_set - sunday_set\n",
    "print ('\\nVisited only on Tuesday:', tuesday_visit_only)\n",
    "\n",
    "#5\n",
    "sun_mon = sunday_set | monday_set \n",
    "sun_mon = sun_mon - tuesday_set\n",
    "print('\\nVisited on Sunday and Monday only', sun_mon)"
   ]
  }
 ],
 "metadata": {
  "kernelspec": {
   "display_name": "Python 3",
   "language": "python",
   "name": "python3"
  },
  "language_info": {
   "codemirror_mode": {
    "name": "ipython",
    "version": 3
   },
   "file_extension": ".py",
   "mimetype": "text/x-python",
   "name": "python",
   "nbconvert_exporter": "python",
   "pygments_lexer": "ipython3",
   "version": "3.6.3"
  }
 },
 "nbformat": 4,
 "nbformat_minor": 2
}
